{
 "cells": [
  {
   "cell_type": "code",
   "execution_count": null,
   "id": "ce29ad0b",
   "metadata": {},
   "outputs": [],
   "source": [
    "# Open the file for reading\n",
    "with open(\"bbcode.txt\", \"r\") as file:\n",
    "  # Read the contents of the file\n",
    "  bbcode = file.read()\n",
    "\n",
    "# Split the BBCode into lines\n",
    "lines = bbcode.splitlines()\n",
    "\n",
    "# Iterate over each line and wrap it in [noparse] [/noparse] tags\n",
    "for i, line in enumerate(lines):\n",
    "  # Remove any leading spaces or tabs\n",
    "  line = line.lstrip()\n",
    "\n",
    "  line = \"[noparse]\" + line + \"[/noparse]\"\n",
    "\n",
    "  # Add a [br] at the end of each line except the very last one\n",
    "  if i < len(lines) - 1:\n",
    "    line += \"[br]\"\n",
    "\n",
    "  print(line)"
   ]
  },
  {
   "cell_type": "code",
   "execution_count": null,
   "id": "3600c508",
   "metadata": {},
   "outputs": [],
   "source": []
  }
 ],
 "metadata": {
  "kernelspec": {
   "display_name": "Python 3 (ipykernel)",
   "language": "python",
   "name": "python3"
  },
  "language_info": {
   "codemirror_mode": {
    "name": "ipython",
    "version": 3
   },
   "file_extension": ".py",
   "mimetype": "text/x-python",
   "name": "python",
   "nbconvert_exporter": "python",
   "pygments_lexer": "ipython3",
   "version": "3.9.13"
  }
 },
 "nbformat": 4,
 "nbformat_minor": 5
}
